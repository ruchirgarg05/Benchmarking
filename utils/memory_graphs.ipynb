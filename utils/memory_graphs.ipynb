{
 "cells": [
  {
   "cell_type": "code",
   "execution_count": 34,
   "id": "f004186f-512d-44fc-8f9b-cc5a8ef8e710",
   "metadata": {},
   "outputs": [],
   "source": [
    "import pandas as pd\n",
    "import numpy as np\n",
    "import matplotlib as pyplt\n",
    "import seaborn as sns\n",
    "import plotly"
   ]
  },
  {
   "cell_type": "markdown",
   "id": "40c267f7-c409-4986-8e5c-19f8e02ec4f1",
   "metadata": {},
   "source": [
    "### Import Experiment Numbers"
   ]
  },
  {
   "cell_type": "code",
   "execution_count": 35,
   "id": "47f1f3fb-1fe9-45e8-a18f-c9b15d9ab638",
   "metadata": {},
   "outputs": [],
   "source": [
    "fname=\"/home/sisyphus-v3/Workspace/CSE221_F22_Project/raw_data/res.csv\" # Change this\n",
    "df = pd.read_csv(fname)\n",
    "df['log(bytes_read)'] = np.log(df['bytes_read'])\n",
    "df['ns'] = np.multiply(df['num_cycles'], 0.29411764705882)"
   ]
  },
  {
   "cell_type": "code",
   "execution_count": 36,
   "id": "c839d376-1b46-4371-89bb-9f2c5e69442b",
   "metadata": {},
   "outputs": [
    {
     "data": {
      "text/plain": [
       "<AxesSubplot:xlabel='log(bytes_read)', ylabel='ns'>"
      ]
     },
     "execution_count": 36,
     "metadata": {},
     "output_type": "execute_result"
    },
    {
     "data": {
      "image/png": "[encoded data removed]",
      "text/plain": [
       "<Figure size 432x288 with 1 Axes>"
      ]
     },
     "metadata": {
      "needs_background": "light"
     },
     "output_type": "display_data"
    }
   ],
   "source": [
    "sns.lineplot(data=df[df['log(bytes_read)'] < 10], x=\"log(bytes_read)\", y=\"ns\")"
   ]
  },
  {
   "cell_type": "code",
   "execution_count": null,
   "id": "15cd38ee-7760-49e7-b2b5-bdf44e944d33",
   "metadata": {},
   "outputs": [],
   "source": []
  }
 ],
 "metadata": {
  "kernelspec": {
   "display_name": "Python 3 (ipykernel)",
   "language": "python",
   "name": "python3"
  },
  "language_info": {
   "codemirror_mode": {
    "name": "ipython",
    "version": 3
   },
   "file_extension": ".py",
   "mimetype": "text/x-python",
   "name": "python",
   "nbconvert_exporter": "python",
   "pygments_lexer": "ipython3",
   "version": "3.8.13"
  }
 },
 "nbformat": 4,
 "nbformat_minor": 5
}
