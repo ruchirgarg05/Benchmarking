{
 "cells": [
  {
   "cell_type": "code",
   "execution_count": 27,
   "id": "b58b34d7-e84e-4b9b-8789-747b3f573c28",
   "metadata": {},
   "outputs": [],
   "source": [
    "import pandas as pd\n",
    "import numpy as np\n",
    "import seaborn as sns\n",
    "import matplotlib.pyplot as plt"
   ]
  },
  {
   "cell_type": "code",
   "execution_count": 14,
   "id": "72e0c4de-7927-4879-9b29-b3f7e91882f5",
   "metadata": {},
   "outputs": [],
   "source": [
    "loopback = {\n",
    "    512: 93862764602,\n",
    "    1024: 47574866794,\n",
    "    2048: 24085300222,\n",
    "    4096: 12725120764,\n",
    "    8192: 6853316472,\n",
    "    16384: 3814520332,\n",
    "    32768: 2259765252,\n",
    "    64000: 1485894694\n",
    "}\n",
    "\n",
    "remote = {\n",
    "    512: 482213552920,\n",
    "    1024: 240096127564,\n",
    "    2048: 157979175924,\n",
    "    4096: 41424881802,\n",
    "    8192: 44187912522,\n",
    "    16384: 20937482922,\n",
    "    32768: 7432095800,\n",
    "    64000: 3480024486\n",
    "}\n",
    "\n",
    "df_loopback = pd.DataFrame.from_dict(loopback, orient='index', columns=['n_cycles'])\n",
    "df_remote = pd.DataFrame.from_dict(remote, orient='index', columns=['n_cycles'])"
   ]
  },
  {
   "cell_type": "code",
   "execution_count": 15,
   "id": "3f841b30-d246-4cda-b2a8-779eb5d34bb0",
   "metadata": {},
   "outputs": [],
   "source": [
    "cycles_per_sec = 3118588000 #3.118588 Mhz\n",
    "df_loopback['seconds'] = df_loopback['n_cycles'] / cycles_per_sec\n",
    "df_remote['seconds'] = df_remote['n_cycles'] / cycles_per_sec"
   ]
  },
  {
   "cell_type": "code",
   "execution_count": 36,
   "id": "b001b484-bfb7-4a1d-b5c4-2f4d3e297bcc",
   "metadata": {},
   "outputs": [],
   "source": [
    "df_loopback['bandwidth'] = 2**30 / df_loopback['seconds'] / 1e6\n",
    "df_remote['bandwidth'] = 2**30 / df_remote['seconds'] / 1e6"
   ]
  },
  {
   "cell_type": "code",
   "execution_count": null,
   "id": "ef4c2994-22ba-4b34-8f43-afd96e05145e",
   "metadata": {},
   "outputs": [],
   "source": [
    "df_loopback['bandwidth'] = 2**30 / df_loopback['seconds'] / 1e6\n",
    "df_remote['bandwidth'] = 2**30 / df_remote['seconds'] / 1e6"
   ]
  },
  {
   "cell_type": "code",
   "execution_count": 37,
   "id": "88da5e78-64da-4fe9-82d0-66d851e23111",
   "metadata": {},
   "outputs": [
    {
     "data": {
      "text/html": [
       "<div>\n",
       "<style scoped>\n",
       "    .dataframe tbody tr th:only-of-type {\n",
       "        vertical-align: middle;\n",
       "    }\n",
       "\n",
       "    .dataframe tbody tr th {\n",
       "        vertical-align: top;\n",
       "    }\n",
       "\n",
       "    .dataframe thead th {\n",
       "        text-align: right;\n",
       "    }\n",
       "</style>\n",
       "<table border=\"1\" class=\"dataframe\">\n",
       "  <thead>\n",
       "    <tr style=\"text-align: right;\">\n",
       "      <th></th>\n",
       "      <th>n_cycles</th>\n",
       "      <th>seconds</th>\n",
       "      <th>bandwidth</th>\n",
       "    </tr>\n",
       "  </thead>\n",
       "  <tbody>\n",
       "    <tr>\n",
       "      <th>512</th>\n",
       "      <td>482213552920</td>\n",
       "      <td>154.625604</td>\n",
       "      <td>6.944140</td>\n",
       "    </tr>\n",
       "    <tr>\n",
       "      <th>1024</th>\n",
       "      <td>240096127564</td>\n",
       "      <td>76.988729</td>\n",
       "      <td>13.946740</td>\n",
       "    </tr>\n",
       "    <tr>\n",
       "      <th>2048</th>\n",
       "      <td>157979175924</td>\n",
       "      <td>50.657277</td>\n",
       "      <td>21.196201</td>\n",
       "    </tr>\n",
       "    <tr>\n",
       "      <th>4096</th>\n",
       "      <td>41424881802</td>\n",
       "      <td>13.283217</td>\n",
       "      <td>80.834470</td>\n",
       "    </tr>\n",
       "    <tr>\n",
       "      <th>8192</th>\n",
       "      <td>44187912522</td>\n",
       "      <td>14.169205</td>\n",
       "      <td>75.779963</td>\n",
       "    </tr>\n",
       "    <tr>\n",
       "      <th>16384</th>\n",
       "      <td>20937482922</td>\n",
       "      <td>6.713770</td>\n",
       "      <td>159.931276</td>\n",
       "    </tr>\n",
       "    <tr>\n",
       "      <th>32768</th>\n",
       "      <td>7432095800</td>\n",
       "      <td>2.383161</td>\n",
       "      <td>450.553714</td>\n",
       "    </tr>\n",
       "    <tr>\n",
       "      <th>64000</th>\n",
       "      <td>3480024486</td>\n",
       "      <td>1.115897</td>\n",
       "      <td>962.222646</td>\n",
       "    </tr>\n",
       "  </tbody>\n",
       "</table>\n",
       "</div>"
      ],
      "text/plain": [
       "           n_cycles     seconds   bandwidth\n",
       "512    482213552920  154.625604    6.944140\n",
       "1024   240096127564   76.988729   13.946740\n",
       "2048   157979175924   50.657277   21.196201\n",
       "4096    41424881802   13.283217   80.834470\n",
       "8192    44187912522   14.169205   75.779963\n",
       "16384   20937482922    6.713770  159.931276\n",
       "32768    7432095800    2.383161  450.553714\n",
       "64000    3480024486    1.115897  962.222646"
      ]
     },
     "execution_count": 37,
     "metadata": {},
     "output_type": "execute_result"
    }
   ],
   "source": [
    "df_remote"
   ]
  },
  {
   "cell_type": "code",
   "execution_count": 73,
   "id": "23ce7df1-2aed-471b-940c-672d30a5cfea",
   "metadata": {},
   "outputs": [
    {
     "data": {
      "text/html": [
       "<div>\n",
       "<style scoped>\n",
       "    .dataframe tbody tr th:only-of-type {\n",
       "        vertical-align: middle;\n",
       "    }\n",
       "\n",
       "    .dataframe tbody tr th {\n",
       "        vertical-align: top;\n",
       "    }\n",
       "\n",
       "    .dataframe thead th {\n",
       "        text-align: right;\n",
       "    }\n",
       "</style>\n",
       "<table border=\"1\" class=\"dataframe\">\n",
       "  <thead>\n",
       "    <tr style=\"text-align: right;\">\n",
       "      <th></th>\n",
       "      <th>n_cycles</th>\n",
       "      <th>seconds</th>\n",
       "      <th>bandwidth</th>\n",
       "    </tr>\n",
       "  </thead>\n",
       "  <tbody>\n",
       "    <tr>\n",
       "      <th>512</th>\n",
       "      <td>93862764602</td>\n",
       "      <td>30.097841</td>\n",
       "      <td>35.675045</td>\n",
       "    </tr>\n",
       "    <tr>\n",
       "      <th>1024</th>\n",
       "      <td>47574866794</td>\n",
       "      <td>15.255259</td>\n",
       "      <td>70.385029</td>\n",
       "    </tr>\n",
       "    <tr>\n",
       "      <th>2048</th>\n",
       "      <td>24085300222</td>\n",
       "      <td>7.723143</td>\n",
       "      <td>139.029131</td>\n",
       "    </tr>\n",
       "    <tr>\n",
       "      <th>4096</th>\n",
       "      <td>12725120764</td>\n",
       "      <td>4.080411</td>\n",
       "      <td>263.145508</td>\n",
       "    </tr>\n",
       "    <tr>\n",
       "      <th>8192</th>\n",
       "      <td>6853316472</td>\n",
       "      <td>2.197570</td>\n",
       "      <td>488.604077</td>\n",
       "    </tr>\n",
       "    <tr>\n",
       "      <th>16384</th>\n",
       "      <td>3814520332</td>\n",
       "      <td>1.223156</td>\n",
       "      <td>877.845201</td>\n",
       "    </tr>\n",
       "    <tr>\n",
       "      <th>32768</th>\n",
       "      <td>2259765252</td>\n",
       "      <td>0.724612</td>\n",
       "      <td>1481.816912</td>\n",
       "    </tr>\n",
       "    <tr>\n",
       "      <th>64000</th>\n",
       "      <td>1485894694</td>\n",
       "      <td>0.476464</td>\n",
       "      <td>2253.563715</td>\n",
       "    </tr>\n",
       "  </tbody>\n",
       "</table>\n",
       "</div>"
      ],
      "text/plain": [
       "          n_cycles    seconds    bandwidth\n",
       "512    93862764602  30.097841    35.675045\n",
       "1024   47574866794  15.255259    70.385029\n",
       "2048   24085300222   7.723143   139.029131\n",
       "4096   12725120764   4.080411   263.145508\n",
       "8192    6853316472   2.197570   488.604077\n",
       "16384   3814520332   1.223156   877.845201\n",
       "32768   2259765252   0.724612  1481.816912\n",
       "64000   1485894694   0.476464  2253.563715"
      ]
     },
     "execution_count": 73,
     "metadata": {},
     "output_type": "execute_result"
    }
   ],
   "source": [
    "df_loopback"
   ]
  },
  {
   "cell_type": "code",
   "execution_count": 72,
   "id": "a415ff84-c3df-4422-9246-238bbba7a83a",
   "metadata": {},
   "outputs": [
    {
     "data": {
      "text/plain": [
       "Text(0.5, 1.0, 'Time to Transmit Full Payload')"
      ]
     },
     "execution_count": 72,
     "metadata": {},
     "output_type": "execute_result"
    },
    {
     "data": {
      "image/png": "[encoded data removed]",
      "text/plain": [
       "<Figure size 960x400 with 1 Axes>"
      ]
     },
     "metadata": {
      "needs_background": "light"
     },
     "output_type": "display_data"
    }
   ],
   "source": [
    "plt.figure(figsize=(12, 5), dpi=80)\n",
    "\n",
    "sns.lineplot(x=df_loopback.index, y=df_loopback.seconds, label='loopback')\n",
    "sns.lineplot(x=df_remote.index, y=df_remote.seconds, label='remote')\n",
    "\n",
    "lb = sns.scatterplot(x=df_loopback.index, y=df_loopback.seconds, size = 20, data = df_loopback)\n",
    "rm = sns.scatterplot(x=df_remote.index, y=df_remote.seconds, size = 20, data = df_remote)\n",
    "\n",
    "plt.legend(['loopback','remote'])\n",
    "\n",
    "plt.ylabel('Seconds', fontsize=20)\n",
    "plt.xlabel('Bytes/Packet', fontsize=20)\n",
    "plt.title('Time to Transmit Full Payload', fontsize=20)"
   ]
  },
  {
   "cell_type": "code",
   "execution_count": 70,
   "id": "13258389-9d0a-4a01-9f08-9078b1aefb4d",
   "metadata": {},
   "outputs": [
    {
     "data": {
      "text/plain": [
       "Text(0.5, 1.0, 'Bandwidth By Payload Size')"
      ]
     },
     "execution_count": 70,
     "metadata": {},
     "output_type": "execute_result"
    },
    {
     "data": {
      "image/png": "[encoded data removed]",
      "text/plain": [
       "<Figure size 960x400 with 1 Axes>"
      ]
     },
     "metadata": {
      "needs_background": "light"
     },
     "output_type": "display_data"
    }
   ],
   "source": [
    "plt.figure(figsize=(12, 5), dpi=80)\n",
    "\n",
    "sns.lineplot(x=df_loopback.index, y=df_loopback.bandwidth, label='loopback')\n",
    "sns.lineplot(x=df_remote.index, y=df_remote.bandwidth, label='remote')\n",
    "\n",
    "lb = sns.scatterplot(x=df_loopback.index, y=df_loopback.bandwidth, size = 20, data = df_loopback)\n",
    "rm = sns.scatterplot(x=df_remote.index, y=df_remote.bandwidth, size = 20, data = df_remote)\n",
    "\n",
    "plt.legend(['loopback','remote'])\n",
    "\n",
    "plt.ylabel('Bandwidth (MB/s)', fontsize=20)\n",
    "plt.xlabel('Bytes/Packet', fontsize=20)\n",
    "plt.title('Bandwidth By Payload Size', fontsize=20)"
   ]
  },
  {
   "cell_type": "code",
   "execution_count": null,
   "id": "57b45899-1330-4216-8be7-14e710703c0e",
   "metadata": {},
   "outputs": [],
   "source": []
  }
 ],
 "metadata": {
  "kernelspec": {
   "display_name": "Python 3 (ipykernel)",
   "language": "python",
   "name": "python3"
  },
  "language_info": {
   "codemirror_mode": {
    "name": "ipython",
    "version": 3
   },
   "file_extension": ".py",
   "mimetype": "text/x-python",
   "name": "python",
   "nbconvert_exporter": "python",
   "pygments_lexer": "ipython3",
   "version": "3.8.13"
  }
 },
 "nbformat": 4,
 "nbformat_minor": 5
}
